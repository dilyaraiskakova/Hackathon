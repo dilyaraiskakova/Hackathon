{
  "nbformat": 4,
  "nbformat_minor": 0,
  "metadata": {
    "colab": {
      "name": "Kriging.ipynb",
      "provenance": []
    },
    "kernelspec": {
      "name": "python3",
      "display_name": "Python 3"
    },
    "language_info": {
      "name": "python"
    }
  },
  "cells": [
    {
      "cell_type": "code",
      "metadata": {
        "colab": {
          "base_uri": "https://localhost:8080/",
          "height": 328
        },
        "id": "n4NgEqdbc8TB",
        "outputId": "5ca66bdf-b0bd-4f02-eb4f-73e278ebf0a8"
      },
      "source": [
        "import pandas as pd\n",
        "thickness = pd.read_csv(\"/content/Wells Net Thickness.csv\")\n",
        "thickness"
      ],
      "execution_count": 2,
      "outputs": [
        {
          "output_type": "execute_result",
          "data": {
            "text/html": [
              "<div>\n",
              "<style scoped>\n",
              "    .dataframe tbody tr th:only-of-type {\n",
              "        vertical-align: middle;\n",
              "    }\n",
              "\n",
              "    .dataframe tbody tr th {\n",
              "        vertical-align: top;\n",
              "    }\n",
              "\n",
              "    .dataframe thead th {\n",
              "        text-align: right;\n",
              "    }\n",
              "</style>\n",
              "<table border=\"1\" class=\"dataframe\">\n",
              "  <thead>\n",
              "    <tr style=\"text-align: right;\">\n",
              "      <th></th>\n",
              "      <th>Unnamed: 0</th>\n",
              "      <th>thick_210</th>\n",
              "      <th>thick_220</th>\n",
              "      <th>thick_230</th>\n",
              "      <th>thick_240</th>\n",
              "      <th>thick_250</th>\n",
              "      <th>thick_260</th>\n",
              "      <th>thick_270</th>\n",
              "      <th>thick_280</th>\n",
              "      <th>x</th>\n",
              "      <th>y</th>\n",
              "      <th>gross_thickness</th>\n",
              "    </tr>\n",
              "  </thead>\n",
              "  <tbody>\n",
              "    <tr>\n",
              "      <th>0</th>\n",
              "      <td>P01net_th</td>\n",
              "      <td>83.8200</td>\n",
              "      <td>83.8200</td>\n",
              "      <td>83.8200</td>\n",
              "      <td>83.8200</td>\n",
              "      <td>77.1010</td>\n",
              "      <td>74.7493</td>\n",
              "      <td>38.9704</td>\n",
              "      <td>35.2750</td>\n",
              "      <td>164</td>\n",
              "      <td>110</td>\n",
              "      <td>83.82</td>\n",
              "    </tr>\n",
              "    <tr>\n",
              "      <th>1</th>\n",
              "      <td>P02net_th</td>\n",
              "      <td>74.1500</td>\n",
              "      <td>74.1500</td>\n",
              "      <td>74.1500</td>\n",
              "      <td>73.7042</td>\n",
              "      <td>72.0696</td>\n",
              "      <td>72.0696</td>\n",
              "      <td>27.1933</td>\n",
              "      <td>3.2692</td>\n",
              "      <td>162</td>\n",
              "      <td>87</td>\n",
              "      <td>74.15</td>\n",
              "    </tr>\n",
              "    <tr>\n",
              "      <th>2</th>\n",
              "      <td>P03net_th</td>\n",
              "      <td>140.0700</td>\n",
              "      <td>140.0700</td>\n",
              "      <td>140.0700</td>\n",
              "      <td>136.9823</td>\n",
              "      <td>136.1402</td>\n",
              "      <td>135.8595</td>\n",
              "      <td>125.7542</td>\n",
              "      <td>5.6141</td>\n",
              "      <td>134</td>\n",
              "      <td>115</td>\n",
              "      <td>140.07</td>\n",
              "    </tr>\n",
              "    <tr>\n",
              "      <th>3</th>\n",
              "      <td>I03net_th</td>\n",
              "      <td>169.9600</td>\n",
              "      <td>169.9600</td>\n",
              "      <td>164.8510</td>\n",
              "      <td>163.4886</td>\n",
              "      <td>142.7120</td>\n",
              "      <td>98.0932</td>\n",
              "      <td>96.3901</td>\n",
              "      <td>7.1526</td>\n",
              "      <td>109</td>\n",
              "      <td>113</td>\n",
              "      <td>169.96</td>\n",
              "    </tr>\n",
              "    <tr>\n",
              "      <th>4</th>\n",
              "      <td>I01net_th</td>\n",
              "      <td>99.0200</td>\n",
              "      <td>99.0200</td>\n",
              "      <td>98.6231</td>\n",
              "      <td>97.6310</td>\n",
              "      <td>85.3278</td>\n",
              "      <td>84.7325</td>\n",
              "      <td>19.8437</td>\n",
              "      <td>0.3968</td>\n",
              "      <td>190</td>\n",
              "      <td>100</td>\n",
              "      <td>99.02</td>\n",
              "    </tr>\n",
              "    <tr>\n",
              "      <th>5</th>\n",
              "      <td>E06net_th</td>\n",
              "      <td>76.4900</td>\n",
              "      <td>76.4900</td>\n",
              "      <td>76.4900</td>\n",
              "      <td>76.4900</td>\n",
              "      <td>63.0007</td>\n",
              "      <td>43.6867</td>\n",
              "      <td>0.0000</td>\n",
              "      <td>0.0000</td>\n",
              "      <td>170</td>\n",
              "      <td>170</td>\n",
              "      <td>76.49</td>\n",
              "    </tr>\n",
              "    <tr>\n",
              "      <th>6</th>\n",
              "      <td>E05net_th</td>\n",
              "      <td>138.2200</td>\n",
              "      <td>138.2200</td>\n",
              "      <td>138.2200</td>\n",
              "      <td>138.2200</td>\n",
              "      <td>131.2952</td>\n",
              "      <td>65.0936</td>\n",
              "      <td>6.3709</td>\n",
              "      <td>0.0000</td>\n",
              "      <td>72</td>\n",
              "      <td>152</td>\n",
              "      <td>138.22</td>\n",
              "    </tr>\n",
              "    <tr>\n",
              "      <th>7</th>\n",
              "      <td>E03net_th</td>\n",
              "      <td>211.1800</td>\n",
              "      <td>211.1800</td>\n",
              "      <td>211.1800</td>\n",
              "      <td>204.4087</td>\n",
              "      <td>195.5214</td>\n",
              "      <td>78.7164</td>\n",
              "      <td>10.1570</td>\n",
              "      <td>0.0000</td>\n",
              "      <td>46</td>\n",
              "      <td>46</td>\n",
              "      <td>211.18</td>\n",
              "    </tr>\n",
              "    <tr>\n",
              "      <th>8</th>\n",
              "      <td>E02net_th</td>\n",
              "      <td>76.4045</td>\n",
              "      <td>76.4045</td>\n",
              "      <td>76.4045</td>\n",
              "      <td>74.8291</td>\n",
              "      <td>74.0415</td>\n",
              "      <td>65.8497</td>\n",
              "      <td>37.1783</td>\n",
              "      <td>0.0000</td>\n",
              "      <td>145</td>\n",
              "      <td>41</td>\n",
              "      <td>78.61</td>\n",
              "    </tr>\n",
              "  </tbody>\n",
              "</table>\n",
              "</div>"
            ],
            "text/plain": [
              "  Unnamed: 0  thick_210  thick_220  ...    x    y  gross_thickness\n",
              "0  P01net_th    83.8200    83.8200  ...  164  110            83.82\n",
              "1  P02net_th    74.1500    74.1500  ...  162   87            74.15\n",
              "2  P03net_th   140.0700   140.0700  ...  134  115           140.07\n",
              "3  I03net_th   169.9600   169.9600  ...  109  113           169.96\n",
              "4  I01net_th    99.0200    99.0200  ...  190  100            99.02\n",
              "5  E06net_th    76.4900    76.4900  ...  170  170            76.49\n",
              "6  E05net_th   138.2200   138.2200  ...   72  152           138.22\n",
              "7  E03net_th   211.1800   211.1800  ...   46   46           211.18\n",
              "8  E02net_th    76.4045    76.4045  ...  145   41            78.61\n",
              "\n",
              "[9 rows x 12 columns]"
            ]
          },
          "metadata": {},
          "execution_count": 2
        }
      ]
    },
    {
      "cell_type": "code",
      "metadata": {
        "colab": {
          "base_uri": "https://localhost:8080/"
        },
        "id": "DYj68IC6dgay",
        "outputId": "9b14d8a8-af29-49bc-9414-54afbc070ab7"
      },
      "source": [
        "#!pip install pykrige\n",
        "import pykrige as pk\n",
        "import numpy as np\n",
        "#define the grid\n",
        "gridx = np.arange (25,225,5.0)\n",
        "gridy=np.arange (25,200,5.0)"
      ],
      "execution_count": 4,
      "outputs": [
        {
          "output_type": "stream",
          "name": "stdout",
          "text": [
            "Collecting pykrige\n",
            "  Downloading PyKrige-1.6.1-cp37-cp37m-manylinux_2_5_x86_64.manylinux1_x86_64.manylinux_2_12_x86_64.manylinux2010_x86_64.whl (734 kB)\n",
            "\u001b[?25l\r\u001b[K     |▌                               | 10 kB 20.9 MB/s eta 0:00:01\r\u001b[K     |█                               | 20 kB 25.8 MB/s eta 0:00:01\r\u001b[K     |█▍                              | 30 kB 26.2 MB/s eta 0:00:01\r\u001b[K     |█▉                              | 40 kB 19.7 MB/s eta 0:00:01\r\u001b[K     |██▎                             | 51 kB 9.8 MB/s eta 0:00:01\r\u001b[K     |██▊                             | 61 kB 8.2 MB/s eta 0:00:01\r\u001b[K     |███▏                            | 71 kB 9.0 MB/s eta 0:00:01\r\u001b[K     |███▋                            | 81 kB 10.0 MB/s eta 0:00:01\r\u001b[K     |████                            | 92 kB 10.9 MB/s eta 0:00:01\r\u001b[K     |████▌                           | 102 kB 8.9 MB/s eta 0:00:01\r\u001b[K     |█████                           | 112 kB 8.9 MB/s eta 0:00:01\r\u001b[K     |█████▍                          | 122 kB 8.9 MB/s eta 0:00:01\r\u001b[K     |█████▉                          | 133 kB 8.9 MB/s eta 0:00:01\r\u001b[K     |██████▎                         | 143 kB 8.9 MB/s eta 0:00:01\r\u001b[K     |██████▊                         | 153 kB 8.9 MB/s eta 0:00:01\r\u001b[K     |███████▏                        | 163 kB 8.9 MB/s eta 0:00:01\r\u001b[K     |███████▋                        | 174 kB 8.9 MB/s eta 0:00:01\r\u001b[K     |████████                        | 184 kB 8.9 MB/s eta 0:00:01\r\u001b[K     |████████▌                       | 194 kB 8.9 MB/s eta 0:00:01\r\u001b[K     |█████████                       | 204 kB 8.9 MB/s eta 0:00:01\r\u001b[K     |█████████▍                      | 215 kB 8.9 MB/s eta 0:00:01\r\u001b[K     |█████████▉                      | 225 kB 8.9 MB/s eta 0:00:01\r\u001b[K     |██████████▎                     | 235 kB 8.9 MB/s eta 0:00:01\r\u001b[K     |██████████▊                     | 245 kB 8.9 MB/s eta 0:00:01\r\u001b[K     |███████████▏                    | 256 kB 8.9 MB/s eta 0:00:01\r\u001b[K     |███████████▋                    | 266 kB 8.9 MB/s eta 0:00:01\r\u001b[K     |████████████                    | 276 kB 8.9 MB/s eta 0:00:01\r\u001b[K     |████████████▌                   | 286 kB 8.9 MB/s eta 0:00:01\r\u001b[K     |█████████████                   | 296 kB 8.9 MB/s eta 0:00:01\r\u001b[K     |█████████████▍                  | 307 kB 8.9 MB/s eta 0:00:01\r\u001b[K     |█████████████▉                  | 317 kB 8.9 MB/s eta 0:00:01\r\u001b[K     |██████████████▎                 | 327 kB 8.9 MB/s eta 0:00:01\r\u001b[K     |██████████████▊                 | 337 kB 8.9 MB/s eta 0:00:01\r\u001b[K     |███████████████▏                | 348 kB 8.9 MB/s eta 0:00:01\r\u001b[K     |███████████████▋                | 358 kB 8.9 MB/s eta 0:00:01\r\u001b[K     |████████████████                | 368 kB 8.9 MB/s eta 0:00:01\r\u001b[K     |████████████████▌               | 378 kB 8.9 MB/s eta 0:00:01\r\u001b[K     |█████████████████               | 389 kB 8.9 MB/s eta 0:00:01\r\u001b[K     |█████████████████▍              | 399 kB 8.9 MB/s eta 0:00:01\r\u001b[K     |█████████████████▉              | 409 kB 8.9 MB/s eta 0:00:01\r\u001b[K     |██████████████████▎             | 419 kB 8.9 MB/s eta 0:00:01\r\u001b[K     |██████████████████▊             | 430 kB 8.9 MB/s eta 0:00:01\r\u001b[K     |███████████████████▏            | 440 kB 8.9 MB/s eta 0:00:01\r\u001b[K     |███████████████████▋            | 450 kB 8.9 MB/s eta 0:00:01\r\u001b[K     |████████████████████            | 460 kB 8.9 MB/s eta 0:00:01\r\u001b[K     |████████████████████▌           | 471 kB 8.9 MB/s eta 0:00:01\r\u001b[K     |█████████████████████           | 481 kB 8.9 MB/s eta 0:00:01\r\u001b[K     |█████████████████████▍          | 491 kB 8.9 MB/s eta 0:00:01\r\u001b[K     |█████████████████████▉          | 501 kB 8.9 MB/s eta 0:00:01\r\u001b[K     |██████████████████████▎         | 512 kB 8.9 MB/s eta 0:00:01\r\u001b[K     |██████████████████████▊         | 522 kB 8.9 MB/s eta 0:00:01\r\u001b[K     |███████████████████████▏        | 532 kB 8.9 MB/s eta 0:00:01\r\u001b[K     |███████████████████████▋        | 542 kB 8.9 MB/s eta 0:00:01\r\u001b[K     |████████████████████████        | 552 kB 8.9 MB/s eta 0:00:01\r\u001b[K     |████████████████████████▌       | 563 kB 8.9 MB/s eta 0:00:01\r\u001b[K     |█████████████████████████       | 573 kB 8.9 MB/s eta 0:00:01\r\u001b[K     |█████████████████████████▍      | 583 kB 8.9 MB/s eta 0:00:01\r\u001b[K     |█████████████████████████▉      | 593 kB 8.9 MB/s eta 0:00:01\r\u001b[K     |██████████████████████████▎     | 604 kB 8.9 MB/s eta 0:00:01\r\u001b[K     |██████████████████████████▊     | 614 kB 8.9 MB/s eta 0:00:01\r\u001b[K     |███████████████████████████▏    | 624 kB 8.9 MB/s eta 0:00:01\r\u001b[K     |███████████████████████████▋    | 634 kB 8.9 MB/s eta 0:00:01\r\u001b[K     |████████████████████████████    | 645 kB 8.9 MB/s eta 0:00:01\r\u001b[K     |████████████████████████████▌   | 655 kB 8.9 MB/s eta 0:00:01\r\u001b[K     |█████████████████████████████   | 665 kB 8.9 MB/s eta 0:00:01\r\u001b[K     |█████████████████████████████▍  | 675 kB 8.9 MB/s eta 0:00:01\r\u001b[K     |█████████████████████████████▉  | 686 kB 8.9 MB/s eta 0:00:01\r\u001b[K     |██████████████████████████████▍ | 696 kB 8.9 MB/s eta 0:00:01\r\u001b[K     |██████████████████████████████▉ | 706 kB 8.9 MB/s eta 0:00:01\r\u001b[K     |███████████████████████████████▎| 716 kB 8.9 MB/s eta 0:00:01\r\u001b[K     |███████████████████████████████▊| 727 kB 8.9 MB/s eta 0:00:01\r\u001b[K     |████████████████████████████████| 734 kB 8.9 MB/s \n",
            "\u001b[?25hRequirement already satisfied: scipy<2,>=1.1.0 in /usr/local/lib/python3.7/dist-packages (from pykrige) (1.4.1)\n",
            "Requirement already satisfied: numpy<2,>=1.14.5 in /usr/local/lib/python3.7/dist-packages (from pykrige) (1.19.5)\n",
            "Installing collected packages: pykrige\n",
            "Successfully installed pykrige-1.6.1\n"
          ]
        }
      ]
    },
    {
      "cell_type": "code",
      "metadata": {
        "colab": {
          "base_uri": "https://localhost:8080/"
        },
        "id": "pTIeCtH3enon",
        "outputId": "ad57d541-71bf-4ae0-f4b3-a417c8d390bf"
      },
      "source": [
        "print(gridx)\n",
        "print(gridy)"
      ],
      "execution_count": 5,
      "outputs": [
        {
          "output_type": "stream",
          "name": "stdout",
          "text": [
            "[ 25.  30.  35.  40.  45.  50.  55.  60.  65.  70.  75.  80.  85.  90.\n",
            "  95. 100. 105. 110. 115. 120. 125. 130. 135. 140. 145. 150. 155. 160.\n",
            " 165. 170. 175. 180. 185. 190. 195. 200. 205. 210. 215. 220.]\n",
            "[ 25.  30.  35.  40.  45.  50.  55.  60.  65.  70.  75.  80.  85.  90.\n",
            "  95. 100. 105. 110. 115. 120. 125. 130. 135. 140. 145. 150. 155. 160.\n",
            " 165. 170. 175. 180. 185. 190. 195.]\n"
          ]
        }
      ]
    },
    {
      "cell_type": "code",
      "metadata": {
        "id": "G01joUOKevPe"
      },
      "source": [
        "Gross_Thickness=pk.UniversalKriging(\n",
        "    np.array(thickness['x']),\n",
        "    np.array(thickness['y']),\n",
        "    np.array(thickness['gross_thickness']),\n",
        "    variogram_model=\"linear\",\n",
        "    drift_terms=[\"regional_linear\"]\n",
        "\n",
        ")"
      ],
      "execution_count": 8,
      "outputs": []
    },
    {
      "cell_type": "code",
      "metadata": {
        "id": "HFXt2RIbfjFL"
      },
      "source": [
        "import matplotlib.pyplot as plt\n",
        "#get output of the kriging process\n",
        "z,ss = Gross_Thickness.execute(\"grid\",gridx,gridy)\n",
        "#meshing / make a grid to represent field data \n",
        "longrid,latgrid = np.meshgrid(gridx,gridy)  \n"
      ],
      "execution_count": 15,
      "outputs": []
    },
    {
      "cell_type": "code",
      "metadata": {
        "colab": {
          "base_uri": "https://localhost:8080/",
          "height": 265
        },
        "id": "Whbvs7uSgrNP",
        "outputId": "9d26b3e0-d3fa-4584-91b6-434c78372171"
      },
      "source": [
        "from mpl_toolkits import mplot3d\n",
        "fig=plt.figure()\n",
        "ax=plt.axes()\n",
        "ax.pcolormesh(longrid,latgrid,np.array(z))\n",
        "plt.show()"
      ],
      "execution_count": 16,
      "outputs": [
        {
          "output_type": "display_data",
          "data": {
            "image/png": "[encoded data removed]",
            "text/plain": [
              "<Figure size 432x288 with 1 Axes>"
            ]
          },
          "metadata": {
            "needs_background": "light"
          }
        }
      ]
    },
    {
      "cell_type": "code",
      "metadata": {
        "id": "UVP8QZZNhQLq"
      },
      "source": [
        "\n",
        "\n"
      ],
      "execution_count": null,
      "outputs": []
    }
  ]
}